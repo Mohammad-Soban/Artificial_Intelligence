{
 "cells": [
  {
   "cell_type": "markdown",
   "metadata": {},
   "source": [
    "# <center> BFS and DFS </center>"
   ]
  },
  {
   "cell_type": "markdown",
   "metadata": {},
   "source": [
    "#### Mohammad Soban Shaikh  &nbsp; &nbsp; &nbsp; &nbsp; &nbsp; &nbsp; &nbsp; &nbsp; &nbsp; &nbsp; &nbsp; &nbsp; &nbsp; &nbsp; &nbsp; &nbsp; &nbsp; &nbsp; &nbsp; &nbsp; &nbsp; &nbsp; &nbsp; &nbsp; &nbsp; &nbsp; &nbsp; &nbsp; &nbsp; &nbsp; &nbsp; &nbsp; &nbsp; &nbsp; &nbsp; &nbsp; &nbsp; &nbsp; &nbsp; &nbsp; &nbsp; &nbsp; &nbsp; &nbsp; &nbsp; &nbsp; &nbsp; 21BCP296"
   ]
  },
  {
   "cell_type": "code",
   "execution_count": 1,
   "metadata": {},
   "outputs": [],
   "source": [
    "class Node:\n",
    "    def __init__(self, state, parent=None, action=None):\n",
    "        self.state = state\n",
    "        self.parent = parent\n",
    "        self.action = action"
   ]
  },
  {
   "cell_type": "code",
   "execution_count": 2,
   "metadata": {},
   "outputs": [],
   "source": [
    "class StackFrontier:\n",
    "    def __init__(self):\n",
    "        self.frontier = []\n",
    "\n",
    "    def add(self, node):\n",
    "        self.frontier.append(node)\n",
    "\n",
    "    def contains_state(self, state):\n",
    "        return any(node.state == state for node in self.frontier)\n",
    "\n",
    "    def empty(self):\n",
    "        return len(self.frontier) == 0\n",
    "\n",
    "    def remove(self):\n",
    "        if self.empty():\n",
    "            raise Exception(\"Empty Frontier\")\n",
    "        else:\n",
    "            node = self.frontier[-1]\n",
    "            self.frontier = self.frontier[:-1]\n",
    "            return node"
   ]
  },
  {
   "cell_type": "code",
   "execution_count": 3,
   "metadata": {},
   "outputs": [],
   "source": [
    "class QueueFrontier(StackFrontier):\n",
    "    def remove(self):\n",
    "        if self.empty():\n",
    "            raise Exception(\"Empty Frontier\")\n",
    "        else:\n",
    "            node = self.frontier[0]\n",
    "            self.frontier = self.frontier[1:]\n",
    "            return node"
   ]
  },
  {
   "cell_type": "code",
   "execution_count": 4,
   "metadata": {},
   "outputs": [],
   "source": [
    "def bfs(graph, start):\n",
    "    start_node = Node(state=start, parent=None, action=None)\n",
    "    frontier = QueueFrontier()\n",
    "    frontier.add(start_node)\n",
    "\n",
    "    explored = set()\n",
    "\n",
    "    while True:\n",
    "        if frontier.empty():\n",
    "            break\n",
    "\n",
    "        node = frontier.remove()\n",
    " \n",
    "        if node.state not in explored:\n",
    "            print(node.state, end=' ')\n",
    "            explored.add(node.state)\n",
    "\n",
    "            for neighbor in graph[node.state]:\n",
    "                if neighbor not in explored:\n",
    "                    child = Node(state=neighbor, parent=node, action=None)\n",
    "                    frontier.add(child)"
   ]
  },
  {
   "cell_type": "code",
   "execution_count": 16,
   "metadata": {},
   "outputs": [],
   "source": [
    "def dfs(graph, start):\n",
    "    start_node = Node(state=start, parent=None, action=None)\n",
    "    frontier = StackFrontier()\n",
    "    frontier.add(start_node)\n",
    "\n",
    "    explored = set()\n",
    "\n",
    "    while True:\n",
    "        if frontier.empty():\n",
    "            break\n",
    "\n",
    "        node = frontier.remove()\n",
    "\n",
    "        if node.state not in explored:\n",
    "            print(node.state, end=' ')\n",
    "            explored.add(node.state)\n",
    "            # print(graph[node.state])\n",
    "\n",
    "            for neighbor in reversed(graph[node.state]):\n",
    "                if neighbor not in explored:\n",
    "                    child = Node(state=neighbor, parent=node, action=None)\n",
    "                    frontier.add(child)"
   ]
  },
  {
   "cell_type": "code",
   "execution_count": 17,
   "metadata": {},
   "outputs": [
    {
     "name": "stdout",
     "output_type": "stream",
     "text": [
      "BFS Traversal:\n",
      "1 2 3 4 5 6 7 \n",
      "DFS Traversal:\n",
      "1 2 4 5 3 6 7 "
     ]
    }
   ],
   "source": [
    "# Example usage taking graph as input using eval\n",
    "graph_input = input(\"Enter the graph as a dictionary: \")\n",
    "graph = eval(graph_input)\n",
    "\n",
    "start_state = int(input(\"Enter the start state: \"))\n",
    "\n",
    "print(\"BFS Traversal:\")\n",
    "bfs(graph, start_state)\n",
    "\n",
    "print(\"\\nDFS Traversal:\")\n",
    "dfs(graph, start_state)\n"
   ]
  },
  {
   "cell_type": "code",
   "execution_count": null,
   "metadata": {},
   "outputs": [],
   "source": [
    "# Sample Dictionaries as input for graph :- \n",
    "# {1: [2, 3], 2: [4, 5], 3: [6, 7], 4: [], 5: [], 6: [], 7: []}\n",
    "\n",
    "# {1: [2, 3], 2: [4, 5], 3: [6, 7], 4: [8, 9], 5: [10, 11], 6: [12, 13], 7: [14, 15], 8: [], 9: [], 10: [], 11: [], 12: [], 13: [], 14: [], 15: []}"
   ]
  }
 ],
 "metadata": {
  "kernelspec": {
   "display_name": "Python 3",
   "language": "python",
   "name": "python3"
  },
  "language_info": {
   "codemirror_mode": {
    "name": "ipython",
    "version": 3
   },
   "file_extension": ".py",
   "mimetype": "text/x-python",
   "name": "python",
   "nbconvert_exporter": "python",
   "pygments_lexer": "ipython3",
   "version": "3.10.6"
  }
 },
 "nbformat": 4,
 "nbformat_minor": 2
}
