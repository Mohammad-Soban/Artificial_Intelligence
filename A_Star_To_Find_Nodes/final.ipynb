{
 "cells": [
  {
   "cell_type": "code",
   "execution_count": 37,
   "metadata": {},
   "outputs": [],
   "source": [
    "import numpy as np"
   ]
  },
  {
   "cell_type": "code",
   "execution_count": 38,
   "metadata": {},
   "outputs": [],
   "source": [
    "# Write a A* algorithm to find the shortest path between two points in the graph given\n",
    "class Node:\n",
    "    def __init__(self, state, parent, g, h):\n",
    "        self.state = state\n",
    "        self.parent = parent\n",
    "        self.g = g\n",
    "        self.h = h\n",
    "        self.f = g + h"
   ]
  },
  {
   "cell_type": "code",
   "execution_count": 43,
   "metadata": {},
   "outputs": [],
   "source": [
    "class Queue_Frontier:\n",
    "    def __init__(self):\n",
    "        self.frontier = []\n",
    "        \n",
    "    def add(self, node):\n",
    "        self.frontier.append(node)\n",
    "        self.frontier.sort(key=lambda x: x.f)  # Sort frontier based on total cost (f value)\n",
    "\n",
    "    def contains_state(self, state):\n",
    "        for node in self.frontier:\n",
    "            if np.array_equal(node.state, state):\n",
    "                return node\n",
    "        return None\n",
    "    \n",
    "    def isEmpty(self):\n",
    "        return len(self.frontier) == 0\n",
    "    \n",
    "    def remove(self):\n",
    "        if self.isEmpty():\n",
    "            raise Exception(\"Empty Frontier\")\n",
    "        else:\n",
    "            node = self.frontier[0]\n",
    "            self.frontier = self.frontier[1:]\n",
    "            return node\n"
   ]
  },
  {
   "cell_type": "code",
   "execution_count": 44,
   "metadata": {},
   "outputs": [],
   "source": [
    "# I have been given a graph and I have the values of the edges between the nodes and the heuristic values of each node\n",
    "graph = {\n",
    "    'A' : {'B': 2, 'E': 3},\n",
    "    'B' : {'A': 2, 'C': 1, 'G':9},\n",
    "    'C' : {'B': 1},\n",
    "    'D' : {'E': 6, 'G': 1},\n",
    "    'E' : {'A': 3, 'D': 6},\n",
    "    'G' : {'D': 1, 'B': 9}\n",
    "}\n",
    "\n",
    "heuristic = {\n",
    "    'A' : 11,\n",
    "    'B' : 6,\n",
    "    'C' : 99,\n",
    "    'D' : 1,\n",
    "    'E' : 7,\n",
    "    'G' : 0\n",
    "}"
   ]
  },
  {
   "cell_type": "code",
   "execution_count": 45,
   "metadata": {},
   "outputs": [],
   "source": [
    "def Find_Minimum_Distance(graph, heuristic, start_node, goal_node):\n",
    "    start_node = Node(np.array(['A']), None, 0, heuristic['A'])\n",
    "    start_node.f = start_node.g + start_node.h\n",
    "    \n",
    "    frontier = Queue_Frontier()\n",
    "    frontier.add(start_node)\n",
    "\n",
    "    explored = set()\n",
    "\n",
    "    while not frontier.isEmpty():\n",
    "        node = frontier.remove()\n",
    "\n",
    "        # If the node is equal to the goal node, then return the node and append the entire path to it\n",
    "        if node.state[0] == 'G':\n",
    "            path = []\n",
    "            while node.parent is not None:\n",
    "                path.append(node.state[0])\n",
    "                node = node.parent\n",
    "            path.reverse()\n",
    "            return path\n",
    "\n",
    "        explored.add(node.state[0])\n",
    "\n",
    "        for neighbour, cost in graph[node.state[0]].items():\n",
    "            if neighbour not in explored:\n",
    "                child = Node(np.array([neighbour]), node, node.g + cost, heuristic[neighbour])\n",
    "                child.f = child.g + child.h\n",
    "                if not frontier.contains_state(child.state) or child.g < frontier.contains_state(child.state).g:\n",
    "                    frontier.add(child)\n",
    "\n",
    "    return None"
   ]
  },
  {
   "cell_type": "code",
   "execution_count": 46,
   "metadata": {},
   "outputs": [
    {
     "name": "stdout",
     "output_type": "stream",
     "text": [
      "['E', 'D', 'G']\n"
     ]
    }
   ],
   "source": [
    "# Now I have the graph and its corresponding heuristic values and find the minimum path and its path cost between the start and goal nodes\n",
    "# Goal node = G\n",
    "\n",
    "path = Find_Minimum_Distance(graph, heuristic, 'A', 'G')\n",
    "print(path)"
   ]
  },
  {
   "cell_type": "code",
   "execution_count": null,
   "metadata": {},
   "outputs": [],
   "source": []
  }
 ],
 "metadata": {
  "kernelspec": {
   "display_name": "Python 3",
   "language": "python",
   "name": "python3"
  },
  "language_info": {
   "codemirror_mode": {
    "name": "ipython",
    "version": 3
   },
   "file_extension": ".py",
   "mimetype": "text/x-python",
   "name": "python",
   "nbconvert_exporter": "python",
   "pygments_lexer": "ipython3",
   "version": "3.10.6"
  }
 },
 "nbformat": 4,
 "nbformat_minor": 2
}
