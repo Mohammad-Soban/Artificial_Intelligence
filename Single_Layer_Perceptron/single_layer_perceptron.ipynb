{
 "cells": [
  {
   "cell_type": "code",
   "execution_count": 9,
   "metadata": {},
   "outputs": [],
   "source": [
    "import numpy as np"
   ]
  },
  {
   "cell_type": "code",
   "execution_count": 17,
   "metadata": {},
   "outputs": [],
   "source": [
    "# Implementation of And Gate Using Single Layer Perceptron (SLP) Model without using any library except numpy\n",
    "input_data = np.array([[0, 0], [0, 1], [1, 0], [1, 1]])\n",
    "output_data = np.array([0, 1, 1, 1])\n",
    "\n",
    "weights = np.array([0.0, 0.0])\n",
    "bias = 0.0"
   ]
  },
  {
   "cell_type": "code",
   "execution_count": 30,
   "metadata": {},
   "outputs": [],
   "source": [
    "# In single layer perceptron I also want to integrate loss function and optimizer\n",
    "# Loss = Sum(1/2(y - y_pred)^2) is not a good loss function for single layer perceptron\n",
    "# Instead I will use the Hebbian Learning Rule\n",
    "\n",
    "\n",
    "class SingleLayerPerceptron:\n",
    "    def __init__(self, input_data, output_data, weights, bias, learning_rate = 0.1):\n",
    "        self.input_data = input_data\n",
    "        self.output_data = output_data\n",
    "        self.weights = weights\n",
    "        self.learning_rate = learning_rate\n",
    "        self.bias = bias\n",
    "        self.epochs = 1000\n",
    "        \n",
    "    def predict(self, input_data):\n",
    "        return np.dot(input_data, self.weights) + self.bias\n",
    "    \n",
    "    def stepup_function(self, x):\n",
    "        if x > 0:\n",
    "            return 1\n",
    "        else:\n",
    "            return 0\n",
    "        \n",
    "    def sigmoid(self, x):\n",
    "        return 1 / (1 + np.exp(-x))\n",
    "    \n",
    "    def relu(self, x):\n",
    "        return max(0, x)\n",
    "\n",
    "    def fit(self, X, Y):\n",
    "        # Initialize the weights and bias to zero\n",
    "        self.weights = np.zeros(X.shape[1])\n",
    "        self.bias = 0\n",
    "\n",
    "        # Train the model\n",
    "        for epoch in range(self.epochs):\n",
    "            for i in range(X.shape[0]):\n",
    "                y_pred = self.predict(X[i])\n",
    "\n",
    "                # This is the activation function which is a step function in this case\n",
    "\n",
    "                y_pred = self.sigmoid(y_pred)\n",
    "\n",
    "                # Update the weights and bias if the prediction is wrong using the Hebbian learning rule\n",
    "                self.weights += self.learning_rate * (Y[i] - y_pred) * X[i]\n",
    "                self.bias += self.learning_rate * (Y[i] - y_pred)\n",
    "\n",
    "                # Note that if the prediction is correct then y[i] = y_predict and hence weights and bias remain unchannged.\n",
    "                \n",
    "        return self.weights, self.bias\n",
    "    \n",
    "    def evaluate(self, X, Y):\n",
    "        correct = 0\n",
    "        for i in range(X.shape[0]):\n",
    "            y_pred = self.predict(X[i])\n",
    "\n",
    "            if y_pred > 0:\n",
    "                y_pred = 1\n",
    "            else:\n",
    "                y_pred = 0\n",
    "\n",
    "            if y_pred == Y[i]:\n",
    "                correct += 1\n",
    "\n",
    "        return correct / X.shape[0]"
   ]
  },
  {
   "cell_type": "code",
   "execution_count": 31,
   "metadata": {},
   "outputs": [],
   "source": [
    "# Now trying the same model with Loss function L = 1/2 * sum((y - y_pred)^2)\n",
    "class SingleLayerPerceptronWithLoss(SingleLayerPerceptron):\n",
    "    def fit(self, X, Y):\n",
    "        # Initialize the weights and bias to zero\n",
    "        self.weights = np.zeros(X.shape[1])\n",
    "        self.bias = 0\n",
    "\n",
    "        \n",
    "        # Train the model\n",
    "        for epoch in range(self.epochs):\n",
    "            for i in range(X.shape[0]):\n",
    "                y_pred = self.predict(X[i])\n",
    "\n",
    "                if y_pred > 0:\n",
    "                    y_pred = 1\n",
    "                else:\n",
    "                    y_pred = 0\n",
    "\n",
    "                # Update the weights and bias using the loss function\n",
    "                self.weights += self.learning_rate * (Y[i] - y_pred) * X[i]\n",
    "                self.bias += self.learning_rate * (Y[i] - y_pred)\n",
    "\n",
    "        return self.weights, self.bias"
   ]
  },
  {
   "cell_type": "code",
   "execution_count": 32,
   "metadata": {},
   "outputs": [
    {
     "name": "stdout",
     "output_type": "stream",
     "text": [
      "Weights:  [6.78363254 6.78734256]\n",
      "Bias:  -2.91401688009161\n",
      "Accuracy:  1.0\n"
     ]
    }
   ],
   "source": [
    "perceptron = SingleLayerPerceptron(input_data, output_data, weights, bias, learning_rate = 0.1)\n",
    "weights, bias = perceptron.fit(input_data, output_data)\n",
    "\n",
    "print(\"Weights: \", weights)\n",
    "print(\"Bias: \", bias)\n",
    "\n",
    "accuracy = perceptron.evaluate(input_data, output_data)\n",
    "print(\"Accuracy: \", accuracy)"
   ]
  },
  {
   "cell_type": "code",
   "execution_count": 26,
   "metadata": {},
   "outputs": [
    {
     "name": "stdout",
     "output_type": "stream",
     "text": [
      "Weights:  [0.1 0.1]\n",
      "Bias:  0.0\n",
      "Accuracy:  1.0\n"
     ]
    }
   ],
   "source": [
    "# Now implementing the same model with loss function\n",
    "perceptron_with_loss = SingleLayerPerceptronWithLoss(input_data, output_data, weights, bias, learning_rate = 0.1)\n",
    "weights, bias = perceptron_with_loss.fit(input_data, output_data)\n",
    "\n",
    "print(\"Weights: \", weights)\n",
    "print(\"Bias: \", bias)\n",
    "\n",
    "accuracy = perceptron_with_loss.evaluate(input_data, output_data)\n",
    "print(\"Accuracy: \", accuracy)"
   ]
  },
  {
   "cell_type": "code",
   "execution_count": null,
   "metadata": {},
   "outputs": [],
   "source": []
  }
 ],
 "metadata": {
  "kernelspec": {
   "display_name": "Python 3",
   "language": "python",
   "name": "python3"
  },
  "language_info": {
   "codemirror_mode": {
    "name": "ipython",
    "version": 3
   },
   "file_extension": ".py",
   "mimetype": "text/x-python",
   "name": "python",
   "nbconvert_exporter": "python",
   "pygments_lexer": "ipython3",
   "version": "3.10.6"
  }
 },
 "nbformat": 4,
 "nbformat_minor": 2
}
