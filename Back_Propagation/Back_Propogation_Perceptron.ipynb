{
 "cells": [
  {
   "cell_type": "code",
   "execution_count": 14,
   "metadata": {},
   "outputs": [],
   "source": [
    "# The code is for perceptron learning algorithm with backpropagation for multi-layer neural network\n",
    "import numpy as np"
   ]
  },
  {
   "cell_type": "code",
   "execution_count": 15,
   "metadata": {},
   "outputs": [],
   "source": [
    "class NeuralNetwork:\n",
    "    def __init__(self, input_size, hidden_size, output_size, learning_rate=0.1):\n",
    "        self.input_size = input_size\n",
    "        # The size of the hidden layer\n",
    "        self.hidden_size = hidden_size\n",
    "        self.output_size = output_size\n",
    "        self.learning_rate = learning_rate\n",
    "        \n",
    "        # Initialize weights and biases\n",
    "        self.weights_input_hidden = np.random.randn(self.input_size, self.hidden_size)\n",
    "        self.bias_hidden = np.zeros((1, self.hidden_size))\n",
    "        self.weights_hidden_output = np.random.randn(self.hidden_size, self.output_size)\n",
    "        self.bias_output = np.zeros((1, self.output_size))\n",
    "\n",
    "        \n",
    "    def sigmoid(self, x):\n",
    "        return 1 / (1 + np.exp(-x))\n",
    "    \n",
    "    def sigmoid_derivative(self, x):\n",
    "        return x * (1 - x)\n",
    "    \n",
    "    def forward(self, X):\n",
    "        # Forward pass\n",
    "        self.hidden_activation = self.sigmoid(np.dot(X, self.weights_input_hidden) + self.bias_hidden)\n",
    "        self.output = self.sigmoid(np.dot(self.hidden_activation, self.weights_hidden_output) + self.bias_output)\n",
    "        return self.output\n",
    "    \n",
    "    def backward(self, X, y, output):\n",
    "        # Backpropagation\n",
    "        error = y - output\n",
    "        d_output = error * self.sigmoid_derivative(output)\n",
    "        \n",
    "        error_hidden = d_output.dot(self.weights_hidden_output.T)\n",
    "        d_hidden = error_hidden * self.sigmoid_derivative(self.hidden_activation)\n",
    "        \n",
    "        # Update weights and biases\n",
    "        self.weights_hidden_output += self.hidden_activation.T.dot(d_output) * self.learning_rate\n",
    "        self.bias_output += np.sum(d_output, axis=0, keepdims=True) * self.learning_rate\n",
    "        self.weights_input_hidden += X.T.dot(d_hidden) * self.learning_rate\n",
    "        self.bias_hidden += np.sum(d_hidden, axis=0, keepdims=True) * self.learning_rate\n",
    "    \n",
    "    def train(self, X, y, epochs):\n",
    "        for epoch in range(epochs):\n",
    "            output = self.forward(X)\n",
    "            self.backward(X, y, output)\n",
    "            if epoch % 100 == 0:\n",
    "                loss = np.mean(np.square(y - output))\n",
    "                print(f'Epoch {epoch}, Loss: {loss}')\n",
    "    \n",
    "    def predict(self, X):\n",
    "        output = self.forward(X)\n",
    "        # Apply threshold to output to get the predicted class labels\n",
    "        thresholded_output = np.where(output >= 0.5, 1, 0)\n",
    "        return thresholded_output\n",
    "    \n",
    "    def evaluate(self, X, y):\n",
    "        output = self.forward(X)\n",
    "        loss = np.mean(np.square(y - output))\n",
    "        return loss\n",
    "    \n",
    "    def accuracy(self, y_true, y_pred):\n",
    "        return np.sum(y_true == y_pred) / len(y_true)"
   ]
  },
  {
   "cell_type": "code",
   "execution_count": 16,
   "metadata": {},
   "outputs": [],
   "source": [
    "input_size = 2\n",
    "hidden_size = 3\n",
    "output_size = 1\n",
    "\n",
    "# Create the neural network\n",
    "nn = NeuralNetwork(input_size, hidden_size, output_size)\n",
    "\n",
    "# Dummy training data (XOR problem)\n",
    "X = np.array([[0, 0], [0, 1], [1, 0], [1, 1]])\n",
    "y = np.array([[0], [1], [1], [0]])"
   ]
  },
  {
   "cell_type": "code",
   "execution_count": 17,
   "metadata": {},
   "outputs": [
    {
     "name": "stdout",
     "output_type": "stream",
     "text": [
      "Epoch 0, Loss: 0.25470483588513215\n",
      "Epoch 100, Loss: 0.2506650802425246\n",
      "Epoch 200, Loss: 0.2504828193582264\n",
      "Epoch 300, Loss: 0.2503606892468014\n",
      "Epoch 400, Loss: 0.2502757080912625\n",
      "Epoch 500, Loss: 0.2502146484904187\n",
      "Epoch 600, Loss: 0.2501691270723675\n",
      "Epoch 700, Loss: 0.2501337122296686\n",
      "Epoch 800, Loss: 0.25010478341263515\n",
      "Epoch 900, Loss: 0.250079826247083\n",
      "Predictions:\n",
      "[[1]\n",
      " [0]\n",
      " [1]\n",
      " [0]]\n"
     ]
    }
   ],
   "source": [
    "# Train the neural network\n",
    "nn.train(X, y, epochs=1000)\n",
    "\n",
    "# Predict\n",
    "print(\"Predictions:\")\n",
    "print(nn.predict(X))"
   ]
  },
  {
   "cell_type": "code",
   "execution_count": 19,
   "metadata": {},
   "outputs": [
    {
     "name": "stdout",
     "output_type": "stream",
     "text": [
      "Weights:\n",
      "[[-0.01524004 -0.16172823 -0.48345976]\n",
      " [-1.94146669 -0.29147363 -0.01865316]]\n",
      "Biases:\n",
      "[[-0.00704384  0.0577942   0.02520189]]\n",
      "Loss:\n",
      "0.250056983015264\n"
     ]
    }
   ],
   "source": [
    "# Getting the weights\n",
    "print(\"Weights:\")\n",
    "print(nn.weights_input_hidden)\n",
    "\n",
    "# Getting the biases\n",
    "print(\"Biases:\")\n",
    "print(nn.bias_hidden)\n",
    "\n",
    "# Evaluate the model\n",
    "print(\"Loss:\")\n",
    "print(nn.evaluate(X, y))\n"
   ]
  },
  {
   "cell_type": "code",
   "execution_count": null,
   "metadata": {},
   "outputs": [],
   "source": []
  },
  {
   "cell_type": "code",
   "execution_count": null,
   "metadata": {},
   "outputs": [],
   "source": []
  }
 ],
 "metadata": {
  "kernelspec": {
   "display_name": "Python 3",
   "language": "python",
   "name": "python3"
  },
  "language_info": {
   "codemirror_mode": {
    "name": "ipython",
    "version": 3
   },
   "file_extension": ".py",
   "mimetype": "text/x-python",
   "name": "python",
   "nbconvert_exporter": "python",
   "pygments_lexer": "ipython3",
   "version": "3.10.6"
  }
 },
 "nbformat": 4,
 "nbformat_minor": 2
}
