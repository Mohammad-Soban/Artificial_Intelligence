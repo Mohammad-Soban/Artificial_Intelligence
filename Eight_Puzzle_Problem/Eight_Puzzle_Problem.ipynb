{
 "cells": [
  {
   "cell_type": "markdown",
   "metadata": {},
   "source": [
    "# <center> Eight Puzzle Problem </center>"
   ]
  },
  {
   "cell_type": "markdown",
   "metadata": {},
   "source": [
    "#### Mohammad Soban Shaikh  &nbsp; &nbsp; &nbsp; &nbsp; &nbsp; &nbsp; &nbsp; &nbsp; &nbsp; &nbsp; &nbsp; &nbsp; &nbsp; &nbsp; &nbsp; &nbsp; &nbsp; &nbsp; &nbsp; &nbsp; &nbsp; &nbsp; &nbsp; &nbsp; &nbsp; &nbsp; &nbsp; &nbsp; &nbsp; &nbsp; &nbsp; &nbsp; &nbsp; &nbsp; &nbsp; &nbsp; &nbsp; &nbsp; &nbsp; &nbsp; &nbsp; &nbsp; &nbsp; &nbsp; &nbsp; &nbsp; &nbsp; 21BCP296"
   ]
  },
  {
   "cell_type": "code",
   "execution_count": 1,
   "metadata": {},
   "outputs": [],
   "source": [
    "import numpy as np"
   ]
  },
  {
   "cell_type": "code",
   "execution_count": 2,
   "metadata": {},
   "outputs": [],
   "source": [
    "class Node:\n",
    "    def __init__(self, state, parent, action):\n",
    "        self.state = state\n",
    "        self.parent = parent\n",
    "        self.action = action"
   ]
  },
  {
   "cell_type": "code",
   "execution_count": 3,
   "metadata": {},
   "outputs": [],
   "source": [
    "class StackFrontier:\n",
    "    def __init__(self):\n",
    "        self.frontier = []\n",
    "        \n",
    "    def add(self, node):\n",
    "        self.frontier.append(node)\n",
    "\n",
    "    def contains_state(self, state):\n",
    "        return any((node.state[0] == state[0]).all() for node in self.frontier)\n",
    "    \n",
    "    def isEmpty(self):\n",
    "        return len(self.frontier) == 0\n",
    "    \n",
    "    def remove(self):\n",
    "        if self.isEmpty():\n",
    "            raise Exception(\"Empty Frontier\")\n",
    "        else:\n",
    "            node = self.frontier[-1]\n",
    "            self.frontier = self.frontier[:-1]\n",
    "            return node"
   ]
  },
  {
   "cell_type": "code",
   "execution_count": 4,
   "metadata": {},
   "outputs": [],
   "source": [
    "class QueueFrontier(StackFrontier):\n",
    "    def remove(self):\n",
    "        if self.isEmpty():\n",
    "            raise Exception(\"Empty Frontier\")\n",
    "        else:\n",
    "            node = self.frontier[0]\n",
    "            self.frontier = self.frontier[1:]\n",
    "            return node"
   ]
  },
  {
   "cell_type": "code",
   "execution_count": 5,
   "metadata": {},
   "outputs": [],
   "source": [
    "# The unhashable type: 'numpy.ndarray' error is fixed by converting the state to a tuple in the line 54 and 58\n",
    "\n",
    "class EightPuzzleProblem:\n",
    "    def __init__(self, initial_state, goal_state):\n",
    "        self.initial_state = np.array(initial_state).reshape(3, 3)\n",
    "        self.goal_state = np.array(goal_state).reshape(3, 3)\n",
    "\n",
    "\n",
    "\t# This method returns a list of possible actions on a given state\n",
    "    def actions(self, state):\n",
    "\n",
    "        # empty_position stores the position of the empty tile\n",
    "        empty_position = np.argwhere(state == 0)[0]\n",
    "\n",
    "        possible_actions = []\n",
    "\n",
    "        # If the emtpy tile is not in the first row then we can move it up\n",
    "        if empty_position[0] > 0:\n",
    "            possible_actions.append(\"Move Up\")\n",
    "\n",
    "        # If the emtpy tile is not in the last row then we can move it down\n",
    "        if empty_position[0] < 2:\n",
    "            possible_actions.append(\"Move Down\")\n",
    "\n",
    "        # If the emtpy tile is not in the first column then we can move it left\n",
    "        if empty_position[1] > 0:\n",
    "            possible_actions.append(\"Move Left\")\n",
    "\n",
    "        # If the emtpy tile is not in the last column then we can move it right\n",
    "        if empty_position[1] < 2:\n",
    "            possible_actions.append(\"Move Right\")\n",
    "\n",
    "        return possible_actions\n",
    "\n",
    "\t# This method returns the new state after applying the given action on the given state\n",
    "    def result(self, state, action):\n",
    "\n",
    "        # empty_position stores the position of the empty tile in the form of a list \n",
    "        empty_position = np.argwhere(state == 0)[0]\n",
    "        new_state = state.copy()\n",
    "\n",
    "        if action == \"Move Up\":\n",
    "\n",
    "            # The empty tile is swapped with the tile above it and the new state is returned\n",
    "            new_state[empty_position[0]][empty_position[1]] = state[empty_position[0] - 1][empty_position[1]]\n",
    "            new_state[empty_position[0] - 1][empty_position[1]] = 0\n",
    "\n",
    "        elif action == \"Move Down\":\n",
    "            new_state[empty_position[0]][empty_position[1]] = state[empty_position[0] + 1][empty_position[1]]\n",
    "            new_state[empty_position[0] + 1][empty_position[1]] = 0\n",
    "\n",
    "        elif action == \"Move Left\":\n",
    "            new_state[empty_position[0]][empty_position[1]] = state[empty_position[0]][empty_position[1] - 1]\n",
    "            new_state[empty_position[0]][empty_position[1] - 1] = 0\n",
    "\n",
    "        elif action == \"Move Right\":\n",
    "            new_state[empty_position[0]][empty_position[1]] = state[empty_position[0]][empty_position[1] + 1]\n",
    "            new_state[empty_position[0]][empty_position[1] + 1] = 0\n",
    "\n",
    "        return new_state\n",
    "    \n",
    "\t\n",
    "\t# This method checks if the given state is the goal state\n",
    "    def goal_test(self, state):\n",
    "        return np.array_equal(state, self.goal_state)\n",
    "\n",
    "\n",
    "\t# This method solves the problem using the given strategy\n",
    "    # This method solves the problem using the given strategy\n",
    "    def solve(self, strategy):\n",
    "        start = Node(self.initial_state, None, None)\n",
    "        frontier = strategy()\n",
    "        frontier.add(start)\n",
    "\n",
    "        explored = set()\n",
    "\n",
    "        while True:\n",
    "            if frontier.isEmpty():\n",
    "                raise Exception(\"No solution\")\n",
    "            node = frontier.remove()\n",
    "\n",
    "            if self.goal_test(node.state):\n",
    "                if strategy == StackFrontier:\n",
    "                    print(\"The solution is found using DFS\")\n",
    "                elif strategy == QueueFrontier:\n",
    "                    print(\"The solution is found using BFS\")\n",
    "\n",
    "                actions = []\n",
    "\n",
    "                while node.parent is not None:\n",
    "                    actions.append(node.action)\n",
    "                    node = node.parent\n",
    "\n",
    "                actions.reverse()\n",
    "                return actions\n",
    "\n",
    "            # Add the state to the explored set if it is not already in it and flatten the state to convert it to a tuple\n",
    "            explored.add(tuple(node.state.flatten()))  # Convert to tuple\n",
    "\n",
    "            if strategy == StackFrontier:\n",
    "                for action in reversed(self.actions(node.state)):\n",
    "                    child = Node(self.result(node.state, action), node, action)\n",
    "                    if not frontier.contains_state(child.state) and tuple(child.state.flatten()) not in explored:\n",
    "                        frontier.add(child)\n",
    "\n",
    "            elif strategy == QueueFrontier:\n",
    "                for action in self.actions(node.state):\n",
    "                    child = Node(self.result(node.state, action), node, action)\n",
    "                    if not frontier.contains_state(child.state) and tuple(child.state.flatten()) not in explored:\n",
    "                        frontier.add(child)\n",
    "\n",
    "            else:\n",
    "                raise Exception(\"Invalid Strategy\")\n"
   ]
  },
  {
   "cell_type": "code",
   "execution_count": 6,
   "metadata": {},
   "outputs": [
    {
     "name": "stdout",
     "output_type": "stream",
     "text": [
      "The solution is found using DFS\n",
      "['Move Left', 'Move Left', 'Move Up', 'Move Up', 'Move Right', 'Move Down', 'Move Right', 'Move Up', 'Move Left', 'Move Down', 'Move Right', 'Move Up', 'Move Left', 'Move Down', 'Move Right', 'Move Down', 'Move Left', 'Move Left', 'Move Up', 'Move Up', 'Move Right', 'Move Down', 'Move Right', 'Move Up', 'Move Left', 'Move Down', 'Move Right', 'Move Up', 'Move Left', 'Move Down', 'Move Right', 'Move Down', 'Move Left', 'Move Left', 'Move Up', 'Move Up', 'Move Right', 'Move Down', 'Move Right', 'Move Up', 'Move Left', 'Move Down', 'Move Right', 'Move Up', 'Move Left', 'Move Down', 'Move Right', 'Move Down', 'Move Left', 'Move Left', 'Move Up', 'Move Up']\n"
     ]
    }
   ],
   "source": [
    "if __name__ == \"__main__\":\n",
    "    problem = EightPuzzleProblem([[8, 7, 6], [5, 4, 3], [2, 1, 0]], [[0, 1, 2], [3, 4, 5], [6, 7, 8]])\n",
    "    print(problem.solve(StackFrontier))"
   ]
  },
  {
   "cell_type": "code",
   "execution_count": null,
   "metadata": {},
   "outputs": [],
   "source": [
    "# Problem 2 :- [1, 0, 2, 3, 4, 5, 6, 7, 8]"
   ]
  }
 ],
 "metadata": {
  "kernelspec": {
   "display_name": "Python 3",
   "language": "python",
   "name": "python3"
  },
  "language_info": {
   "codemirror_mode": {
    "name": "ipython",
    "version": 3
   },
   "file_extension": ".py",
   "mimetype": "text/x-python",
   "name": "python",
   "nbconvert_exporter": "python",
   "pygments_lexer": "ipython3",
   "version": "3.10.6"
  }
 },
 "nbformat": 4,
 "nbformat_minor": 2
}
