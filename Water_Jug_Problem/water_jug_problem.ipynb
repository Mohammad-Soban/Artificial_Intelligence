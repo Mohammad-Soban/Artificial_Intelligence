{
 "cells": [
  {
   "cell_type": "markdown",
   "metadata": {},
   "source": [
    "# <center> Water Jug Problem </center>"
   ]
  },
  {
   "cell_type": "markdown",
   "metadata": {},
   "source": [
    "#### Mohammad Soban Shaikh  &nbsp; &nbsp; &nbsp; &nbsp; &nbsp; &nbsp; &nbsp; &nbsp; &nbsp; &nbsp; &nbsp; &nbsp; &nbsp; &nbsp; &nbsp; &nbsp; &nbsp; &nbsp; &nbsp; &nbsp; &nbsp; &nbsp; &nbsp; &nbsp; &nbsp; &nbsp; &nbsp; &nbsp; &nbsp; &nbsp; &nbsp; &nbsp; &nbsp; &nbsp; &nbsp; &nbsp; &nbsp; &nbsp; &nbsp; &nbsp; &nbsp; &nbsp; &nbsp; &nbsp; &nbsp; &nbsp; &nbsp; 21BCP296"
   ]
  },
  {
   "cell_type": "code",
   "execution_count": 7,
   "metadata": {},
   "outputs": [],
   "source": [
    "import numpy as np"
   ]
  },
  {
   "cell_type": "code",
   "execution_count": 8,
   "metadata": {},
   "outputs": [],
   "source": [
    "class Node:\n",
    "    def __init__(self, state, parent, action):\n",
    "        self.state = state\n",
    "        self.parent = parent\n",
    "        self.action = action"
   ]
  },
  {
   "cell_type": "code",
   "execution_count": 9,
   "metadata": {},
   "outputs": [],
   "source": [
    "class StackFrontier:\n",
    "    def __init__(self):\n",
    "        self.frontier = []\n",
    "\n",
    "    def add(self, node):\n",
    "        self.frontier.append(node)\n",
    "\n",
    "    def contains_state(self, state):\n",
    "        return any((node.state == state).all() for node in self.frontier)\n",
    "\n",
    "    def empty(self):\n",
    "        return len(self.frontier) == 0\n",
    "\n",
    "    def remove(self):\n",
    "        if self.empty():\n",
    "            raise Exception(\"Empty Frontier\")\n",
    "        else:\n",
    "            node = self.frontier[-1]\n",
    "            self.frontier = self.frontier[:-1]\n",
    "            return node"
   ]
  },
  {
   "cell_type": "code",
   "execution_count": 10,
   "metadata": {},
   "outputs": [],
   "source": [
    "class QueueFrontier(StackFrontier):\n",
    "    def remove(self):\n",
    "        if self.empty():\n",
    "            raise Exception(\"Empty Frontier\")\n",
    "        else:\n",
    "            node = self.frontier[0]\n",
    "            self.frontier = self.frontier[1:]\n",
    "            return node"
   ]
  },
  {
   "cell_type": "code",
   "execution_count": 21,
   "metadata": {},
   "outputs": [],
   "source": [
    "# Solve the water jug problem with bfs and dfs\n",
    "class WaterJugProblem:\n",
    "    def __init__(self, capacity, goal):\n",
    "        # Capacity is a tuple of the capacities of the two jugs\n",
    "        self.capacity = capacity \n",
    "        self.goal = goal\n",
    "        self.initial_state = np.array([0,0])\n",
    "\n",
    "    \n",
    "    def actions(self, state):\n",
    "        actions = [\"Fill Jug 1\", \"Fill Jug 2\", \"Empty Jug 1\", \"Empty Jug 2\", \"Pour Jug 1 to Jug 2\", \"Pour Jug 2 to Jug 1\"]\n",
    "        return actions\n",
    "\n",
    "    \n",
    "    def result(self, state, action):\n",
    "        # If action is to fill jug 1, then self.capacity[0] is the maximum amount of water that can be filled in jug 1\n",
    "        if action == \"Fill Jug 1\":\n",
    "            return np.array([self.capacity[0], state[1]])\n",
    "        \n",
    "        # If the action is to fill jug 2, then self.capacity[1] is the maximum amount of water that can be filled in jug 2\n",
    "        elif action == \"Fill Jug 2\":\n",
    "            return np.array([state[0], self.capacity[1]])\n",
    "        \n",
    "        # If the action is to empty jug 1, then 0 is the amount of water in jug 1\n",
    "        elif action == \"Empty Jug 1\":\n",
    "            return np.array([0, state[1]])\n",
    "        \n",
    "        # If the action is to empty jug 2, then 0 is the amount of water in jug 2\n",
    "        elif action == \"Empty Jug 2\":\n",
    "            return np.array([state[0], 0])\n",
    "        \n",
    "        # If the action is to pour water from jug 1 to jug 2, then the amount of water that can be poured is the minimum of the amount of water in jug 1 and the amount of space left in jug 2\n",
    "        elif action == \"Pour Jug 1 to Jug 2\":\n",
    "            pour = min(state[0], self.capacity[1] - state[1])\n",
    "            return np.array([state[0] - pour, state[1] + pour])\n",
    "        \n",
    "        elif action == \"Pour Jug 2 to Jug 1\":\n",
    "            pour = min(self.capacity[0] - state[0], state[1])\n",
    "            return np.array([state[0] + pour, state[1] - pour])\n",
    "        \n",
    "        else:\n",
    "            raise Exception(\"Invalid action\")\n",
    "        \n",
    "    \n",
    "    def goal_test(self, state):\n",
    "        return np.array_equal(state, self.goal)\n",
    "\n",
    "\n",
    "    def solve(self, strategy):\n",
    "        start = Node(self.initial_state, None, None)\n",
    "        frontier = strategy()\n",
    "        frontier.add(start)\n",
    "        \n",
    "        explored = set()\n",
    "        \n",
    "        while True:\n",
    "            if frontier.empty():\n",
    "                raise Exception(\"No solution\")\n",
    "            node = frontier.remove()\n",
    "\n",
    "            # Check if the current state is the goal state\n",
    "            if self.goal_test(node.state):\n",
    "                if strategy == StackFrontier:\n",
    "                    print(\"The solution is found using DFS\")\n",
    "\n",
    "                elif strategy == QueueFrontier:\n",
    "                    print(\"The solution is found using BFS\")\n",
    "\n",
    "                actions = []\n",
    "\n",
    "                # while the current state is not the initial state, add the action that led to the current state to the actions list\n",
    "                while node.parent is not None:\n",
    "                    actions.append(node.action)\n",
    "                    node = node.parent\n",
    "\n",
    "                # Actions are stored as a list from the goal state to the initial state. Reverse the list to get the actions from the initial state to the goal state\n",
    "                actions.reverse()\n",
    "                return actions\n",
    "            \n",
    "            # If the current state is not the goal state, then add the current state to the explored set and add all the child states to the frontier\n",
    "            explored.add(tuple(node.state))\n",
    "\n",
    "            if strategy == StackFrontier:\n",
    "                for action in reversed(self.actions(node.state)):\n",
    "                    child_state = self.result(node.state, action)\n",
    "                    if not frontier.contains_state(child_state) and tuple(child_state) not in explored:\n",
    "                        child = Node(child_state, node, action)\n",
    "                        frontier.add(child)\n",
    "\n",
    "\n",
    "            elif strategy == QueueFrontier:\n",
    "                for action in self.actions(node.state):\n",
    "                    child_state = self.result(node.state, action)\n",
    "                    if not frontier.contains_state(child_state) and tuple(child_state) not in explored:\n",
    "                        child = Node(child_state, node, action)\n",
    "                        frontier.add(child) \n",
    "\n",
    "            else:\n",
    "                raise Exception(\"Invalid strategy\")"
   ]
  },
  {
   "cell_type": "code",
   "execution_count": 23,
   "metadata": {},
   "outputs": [
    {
     "name": "stdout",
     "output_type": "stream",
     "text": [
      "The solution is found using DFS\n",
      "['Fill Jug 1', 'Pour Jug 1 to Jug 2', 'Empty Jug 2', 'Pour Jug 1 to Jug 2', 'Fill Jug 1', 'Pour Jug 1 to Jug 2', 'Empty Jug 2']\n"
     ]
    }
   ],
   "source": [
    "if __name__ == \"__main__\":\n",
    "    problem = WaterJugProblem(np.array([4,3]), np.array([2,0]))\n",
    "    print(problem.solve(StackFrontier))"
   ]
  },
  {
   "cell_type": "code",
   "execution_count": null,
   "metadata": {},
   "outputs": [],
   "source": []
  }
 ],
 "metadata": {
  "kernelspec": {
   "display_name": "Python 3",
   "language": "python",
   "name": "python3"
  },
  "language_info": {
   "codemirror_mode": {
    "name": "ipython",
    "version": 3
   },
   "file_extension": ".py",
   "mimetype": "text/x-python",
   "name": "python",
   "nbconvert_exporter": "python",
   "pygments_lexer": "ipython3",
   "version": "3.10.6"
  }
 },
 "nbformat": 4,
 "nbformat_minor": 2
}
