{
 "cells": [
  {
   "cell_type": "code",
   "execution_count": null,
   "metadata": {},
   "outputs": [],
   "source": [
    "def print_board(board):\n",
    "    for row in board:``\n",
    "        print(\" | \".join(row))\n",
    "        print(\"-\" * 9)"
   ]
  },
  {
   "cell_type": "code",
   "execution_count": 2,
   "metadata": {},
   "outputs": [],
   "source": [
    "def check_winner(board, player):\n",
    "    # Check rows, columns, and diagonals\n",
    "    for i in range(3):\n",
    "        if all([cell == player for cell in board[i]]) or all([board[j][i] == player for j in range(3)]):\n",
    "            return True\n",
    "    if all([board[i][i] == player for i in range(3)]) or all([board[i][2-i] == player for i in range(3)]):\n",
    "        return True\n",
    "    return False"
   ]
  },
  {
   "cell_type": "code",
   "execution_count": 3,
   "metadata": {},
   "outputs": [],
   "source": [
    "\n",
    "def is_full(board):\n",
    "    return all([cell != ' ' for row in board for cell in row])"
   ]
  },
  {
   "cell_type": "code",
   "execution_count": 4,
   "metadata": {},
   "outputs": [],
   "source": [
    "def minimax(board, depth, is_maximizing):\n",
    "    if check_winner(board, 'O'):\n",
    "        return 10 - depth\n",
    "    elif check_winner(board, 'X'):\n",
    "        return -10 + depth\n",
    "    elif is_full(board):\n",
    "        return 0\n",
    "\n",
    "    if is_maximizing:\n",
    "        best_score = float('-inf')\n",
    "        for i in range(3):\n",
    "            for j in range(3):\n",
    "                if board[i][j] == ' ':\n",
    "                    board[i][j] = 'O'\n",
    "                    score = minimax(board, depth + 1, False)\n",
    "                    board[i][j] = ' '\n",
    "                    best_score = max(score, best_score)\n",
    "        return best_score\n",
    "    else:\n",
    "        best_score = float('inf')\n",
    "        for i in range(3):\n",
    "            for j in range(3):\n",
    "                if board[i][j] == ' ':\n",
    "                    board[i][j] = 'X'\n",
    "                    score = minimax(board, depth + 1, True)\n",
    "                    board[i][j] = ' '\n",
    "                    best_score = min(score, best_score)\n",
    "        return best_score"
   ]
  },
  {
   "cell_type": "code",
   "execution_count": 5,
   "metadata": {},
   "outputs": [],
   "source": [
    "\n",
    "def make_best_move(board):\n",
    "    best_move = None\n",
    "    best_score = float('-inf')\n",
    "    for i in range(3):\n",
    "        for j in range(3):\n",
    "            if board[i][j] == ' ':\n",
    "                board[i][j] = 'O'\n",
    "                score = minimax(board, 0, False)\n",
    "                board[i][j] = ' '\n",
    "                if score > best_score:\n",
    "                    best_score = score\n",
    "                    best_move = (i, j)\n",
    "    return best_move"
   ]
  },
  {
   "cell_type": "code",
   "execution_count": 6,
   "metadata": {},
   "outputs": [],
   "source": [
    "def main():\n",
    "    board = [[' ' for _ in range(3)] for _ in range(3)]\n",
    "    print_board(board)\n",
    "    while True:\n",
    "        while True:\n",
    "            try:\n",
    "                x, y = map(int, input(\"Enter your move (row, column): \").split())\n",
    "                if x < 0 or x > 2 or y < 0 or y > 2:\n",
    "                    print(\"Invalid input. Row and column must be between 0 and 2.\")\n",
    "                    continue\n",
    "                if board[x][y] != ' ':\n",
    "                    print(\"Cell already occupied. Try again.\")\n",
    "                    continue\n",
    "                break\n",
    "            except ValueError:\n",
    "                print(\"Invalid input. Please enter two integers separated by a space.\")\n",
    "        board[x][y] = 'X'\n",
    "        print_board(board)\n",
    "        if check_winner(board, 'X'):\n",
    "            print(\"You win!\")\n",
    "            break\n",
    "        if is_full(board):\n",
    "            print(\"It's a tie!\")\n",
    "            break\n",
    "        print(\"Computer's turn:\")\n",
    "        computer_move = make_best_move(board)\n",
    "        board[computer_move[0]][computer_move[1]] = 'O'\n",
    "        print_board(board)\n",
    "        if check_winner(board, 'O'):\n",
    "            print(\"Computer wins!\")\n",
    "            break\n",
    "        if is_full(board):\n",
    "            print(\"It's a tie!\")\n",
    "            break"
   ]
  },
  {
   "cell_type": "code",
   "execution_count": 7,
   "metadata": {},
   "outputs": [
    {
     "name": "stdout",
     "output_type": "stream",
     "text": [
      "  |   |  \n",
      "---------\n",
      "  |   |  \n",
      "---------\n",
      "  |   |  \n",
      "---------\n",
      "Invalid input. Please enter two integers separated by a space.\n",
      "  |   |  \n",
      "---------\n",
      "  | X |  \n",
      "---------\n",
      "  |   |  \n",
      "---------\n",
      "Computer's turn:\n",
      "O |   |  \n",
      "---------\n",
      "  | X |  \n",
      "---------\n",
      "  |   |  \n",
      "---------\n",
      "O |   | X\n",
      "---------\n",
      "  | X |  \n",
      "---------\n",
      "  |   |  \n",
      "---------\n",
      "Computer's turn:\n",
      "O |   | X\n",
      "---------\n",
      "  | X |  \n",
      "---------\n",
      "O |   |  \n",
      "---------\n",
      "Invalid input. Please enter two integers separated by a space.\n",
      "Invalid input. Please enter two integers separated by a space.\n",
      "Invalid input. Please enter two integers separated by a space.\n",
      "Invalid input. Please enter two integers separated by a space.\n",
      "Invalid input. Please enter two integers separated by a space.\n",
      "Invalid input. Please enter two integers separated by a space.\n",
      "Invalid input. Please enter two integers separated by a space.\n",
      "Invalid input. Please enter two integers separated by a space.\n",
      "Invalid input. Please enter two integers separated by a space.\n",
      "Invalid input. Please enter two integers separated by a space.\n",
      "Invalid input. Please enter two integers separated by a space.\n",
      "Invalid input. Please enter two integers separated by a space.\n"
     ]
    }
   ],
   "source": [
    "if __name__ == \"__main__\":\n",
    "    main()\n",
    "  "
   ]
  },
  {
   "cell_type": "code",
   "execution_count": null,
   "metadata": {},
   "outputs": [],
   "source": []
  }
 ],
 "metadata": {
  "kernelspec": {
   "display_name": "Python 3",
   "language": "python",
   "name": "python3"
  },
  "language_info": {
   "codemirror_mode": {
    "name": "ipython",
    "version": 3
   },
   "file_extension": ".py",
   "mimetype": "text/x-python",
   "name": "python",
   "nbconvert_exporter": "python",
   "pygments_lexer": "ipython3",
   "version": "3.10.6"
  }
 },
 "nbformat": 4,
 "nbformat_minor": 2
}
